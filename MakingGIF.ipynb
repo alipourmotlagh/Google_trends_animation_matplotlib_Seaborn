{
 "cells": [
  {
   "cell_type": "code",
   "execution_count": 1,
   "metadata": {},
   "outputs": [],
   "source": [
    "# To read Csvs\n",
    "import pandas as pd\n",
    "# To plot Csvs\n",
    "import seaborn as sns\n",
    "# Library that helps us deal with \n",
    "# Windows/Linux/OSX\n",
    "import os\n",
    "# The standard python plotting \n",
    "# library that people use in python\n",
    "# Seaborn is build on top of this library\n",
    "import matplotlib.pyplot as plt\n",
    "import matplotlib.animation as animation"
   ]
  },
  {
   "cell_type": "code",
   "execution_count": null,
   "metadata": {},
   "outputs": [],
   "source": []
  }
 ],
 "metadata": {
  "kernelspec": {
   "display_name": "py",
   "language": "python",
   "name": "python3"
  },
  "language_info": {
   "codemirror_mode": {
    "name": "ipython",
    "version": 3
   },
   "file_extension": ".py",
   "mimetype": "text/x-python",
   "name": "python",
   "nbconvert_exporter": "python",
   "pygments_lexer": "ipython3",
   "version": "3.9.13"
  },
  "orig_nbformat": 4,
  "vscode": {
   "interpreter": {
    "hash": "e5ec2996c563c234ac14e94a9194176f4b4a65942ae41358f6d1676f83052ec2"
   }
  }
 },
 "nbformat": 4,
 "nbformat_minor": 2
}
